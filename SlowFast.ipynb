{
  "cells": [
    {
      "cell_type": "markdown",
      "metadata": {
        "id": "view-in-github",
        "colab_type": "text"
      },
      "source": [
        "<a href=\"https://colab.research.google.com/github/Byng-hee/OpenCv2/blob/main/SlowFast.ipynb\" target=\"_parent\"><img src=\"https://colab.research.google.com/assets/colab-badge.svg\" alt=\"Open In Colab\"/></a>"
      ]
    },
    {
      "cell_type": "code",
      "execution_count": 21,
      "metadata": {
        "id": "QBbUAyCParpN",
        "colab": {
          "base_uri": "https://localhost:8080/"
        },
        "outputId": "44f30130-ed8e-49fd-9f86-d21135cdfebf"
      },
      "outputs": [
        {
          "output_type": "stream",
          "name": "stdout",
          "text": [
            "Drive already mounted at /content/drive; to attempt to forcibly remount, call drive.mount(\"/content/drive\", force_remount=True).\n"
          ]
        }
      ],
      "source": [
        "from google.colab import drive\n",
        "drive.mount('/content/drive')"
      ]
    },
    {
      "cell_type": "code",
      "execution_count": null,
      "metadata": {
        "id": "VSKmCUAJaABL"
      },
      "outputs": [],
      "source": [
        "!pip install -U 'git+https://github.com/facebookresearch/fvcore.git' 'git+https://github.com/cocodataset/cocoapi.git#subdirectory=PythonAPI'\n",
        "!git clone https://github.com/facebookresearch/detectron2 detectron2_repo\n",
        "!pip install -e detectron2_repo"
      ]
    },
    {
      "cell_type": "code",
      "execution_count": null,
      "metadata": {
        "id": "Rb4XyF-7ad9T"
      },
      "outputs": [],
      "source": [
        "!git clone https://github.com/facebookresearch/slowfast\n",
        "!cd SlowFast\n",
        "!python setup.py build develop"
      ]
    },
    {
      "cell_type": "code",
      "execution_count": null,
      "metadata": {
        "id": "edaCo4DvZah5"
      },
      "outputs": [],
      "source": [
        "!pip3 install torch\n",
        "!pip3 install torchvision\n",
        "!pip install 'git+https://github.com/facebookresearch/fvcore'\n",
        "!git clone https://github.com/facebookresearch/detectron2 detectron2_repo\n",
        "!pip install -e detectron2_repo\n",
        "!git clone https://github.com/facebookresearch/slowfast\n",
        "!cd SlowFast\n",
        "!python setup.py build develop"
      ]
    },
    {
      "cell_type": "code",
      "execution_count": 9,
      "metadata": {
        "id": "gd6tjRAhZKfg"
      },
      "outputs": [],
      "source": [
        "import torch\n",
        "import torchvision.transforms as transforms\n",
        "import os\n",
        "import urllib.request\n",
        "import subprocess\n",
        "import urllib.request"
      ]
    },
    {
      "cell_type": "code",
      "execution_count": 10,
      "metadata": {
        "colab": {
          "base_uri": "https://localhost:8080/"
        },
        "id": "c1LUYhKVZRHP",
        "outputId": "1f1b2ca1-1bde-4301-f00c-1f5a38e956d4"
      },
      "outputs": [
        {
          "output_type": "stream",
          "name": "stdout",
          "text": [
            "../../data/ava/videos doesn't exist. Creating it.\n"
          ]
        }
      ],
      "source": [
        "DATA_DIR = \"../../data/ava/videos\"\n",
        "\n",
        "if not os.path.isdir(DATA_DIR):\n",
        "    print(f\"{DATA_DIR} doesn't exist. Creating it.\")\n",
        "    os.makedirs(DATA_DIR)\n",
        "\n",
        "url = \"https://s3.amazonaws.com/ava-dataset/annotations/ava_file_names_trainval_v2.1.txt\"\n",
        "file_names = urllib.request.urlopen(url).read().decode().split('\\n')\n",
        "\n",
        "for i in range(3):\n",
        "  line = file_names[i]\n",
        "  if line:\n",
        "    video_url = f\"https://s3.amazonaws.com/ava-dataset/trainval/{line}\"\n",
        "    file_name = os.path.join(DATA_DIR, os.path.basename(line))\n",
        "    urllib.request.urlretrieve(video_url, file_name)"
      ]
    },
    {
      "cell_type": "code",
      "execution_count": 11,
      "metadata": {
        "colab": {
          "base_uri": "https://localhost:8080/"
        },
        "id": "5xqTcREVa-yy",
        "outputId": "af78b7b2-b8b8-45ea-82e4-bfd66ac952f7"
      },
      "outputs": [
        {
          "output_type": "stream",
          "name": "stdout",
          "text": [
            "../../data/ava/videos_15min doesn't exist. Creating it.\n"
          ]
        }
      ],
      "source": [
        "IN_DATA_DIR = \"../../data/ava/videos\"\n",
        "OUT_DATA_DIR = \"../../data/ava/videos_15min\"\n",
        "\n",
        "if not os.path.isdir(OUT_DATA_DIR):\n",
        "  print(f\"{OUT_DATA_DIR} doesn't exist. Creating it.\")\n",
        "  os.makedirs(OUT_DATA_DIR)\n",
        "\n",
        "for video in os.listdir(IN_DATA_DIR):\n",
        "    video_path = os.path.join(IN_DATA_DIR, video)\n",
        "    if os.path.isfile(video_path):\n",
        "      out_name = os.path.join(OUT_DATA_DIR, video)\n",
        "      if not os.path.isfile(out_name):\n",
        "        subprocess.run([\"ffmpeg\", \"-ss\", \"900\", \"-t\", \"901\", \"-i\", video_path, out_name])"
      ]
    },
    {
      "cell_type": "code",
      "execution_count": 12,
      "metadata": {
        "id": "UnPOBA-SbDEN",
        "colab": {
          "base_uri": "https://localhost:8080/"
        },
        "outputId": "a84537f8-bd34-4e9b-ec47-9cd6e3afc1af"
      },
      "outputs": [
        {
          "output_type": "stream",
          "name": "stdout",
          "text": [
            "../../data/ava/frames doesn't exist. Creating it.\n"
          ]
        }
      ],
      "source": [
        "IN_DATA_DIR = \"../../data/ava/videos_15min\"\n",
        "OUT_DATA_DIR = \"../../data/ava/frames\"\n",
        "\n",
        "if not os.path.isdir(OUT_DATA_DIR):\n",
        "    print(f\"{OUT_DATA_DIR} doesn't exist. Creating it.\")\n",
        "    os.makedirs(OUT_DATA_DIR)\n",
        "\n",
        "for video in os.listdir(IN_DATA_DIR):\n",
        "    video_path = os.path.join(IN_DATA_DIR, video)\n",
        "    if os.path.isfile(video_path):\n",
        "        video_name = os.path.splitext(os.path.basename(video))[0]\n",
        "        if video.endswith(\".webm\"):\n",
        "            video_name = video_name[:-5]\n",
        "        else:\n",
        "            video_name = video_name[:-4]\n",
        "\n",
        "        out_video_dir = os.path.join(OUT_DATA_DIR, video_name)\n",
        "        os.makedirs(out_video_dir, exist_ok=True)\n",
        "\n",
        "        out_name = os.path.join(out_video_dir, f\"{video_name}_%06d.jpg\")\n",
        "\n",
        "        subprocess.run([\"ffmpeg\", \"-i\", video_path, \"-r\", \"30\", \"-q:v\", \"1\", out_name])"
      ]
    },
    {
      "cell_type": "code",
      "execution_count": 13,
      "metadata": {
        "id": "IX_xwCJsbFou",
        "colab": {
          "base_uri": "https://localhost:8080/"
        },
        "outputId": "ab9c055b-e2f6-4357-c965-9883e1c1551c"
      },
      "outputs": [
        {
          "output_type": "stream",
          "name": "stdout",
          "text": [
            "../../data/ava/annotations doesn't exist. Creating it.\n"
          ]
        }
      ],
      "source": [
        "DATA_DIR = \"../../data/ava/annotations\"\n",
        "\n",
        "if not os.path.isdir(DATA_DIR):\n",
        "    print(f\"{DATA_DIR} doesn't exist. Creating it.\")\n",
        "    os.makedirs(DATA_DIR)\n",
        "\n",
        "urls = [\n",
        "    \"https://research.google.com/ava/download/ava_train_v2.1.csv\",\n",
        "    \"https://research.google.com/ava/download/ava_val_v2.1.csv\",\n",
        "    \"https://research.google.com/ava/download/ava_action_list_v2.1_for_activitynet_2018.pbtxt\",\n",
        "    \"https://research.google.com/ava/download/ava_train_excluded_timestamps_v2.1.csv\",\n",
        "    \"https://research.google.com/ava/download/ava_val_excluded_timestamps_v2.1.csv\"\n",
        "]\n",
        "\n",
        "for url in urls:\n",
        "    file_name = os.path.join(DATA_DIR, os.path.basename(url))\n",
        "    urllib.request.urlretrieve(url, file_name)"
      ]
    },
    {
      "cell_type": "code",
      "source": [
        "DATA_DIR = \"../content/result_slowfast\"\n",
        "\n",
        "if not os.path.isdir(DATA_DIR):\n",
        "    print(f\"{DATA_DIR} doesn't exist. Creating it.\")\n",
        "    os.makedirs(DATA_DIR)"
      ],
      "metadata": {
        "id": "1LKnrDONQDuG",
        "outputId": "d823a9a4-241b-440f-c954-f653a55404d1",
        "colab": {
          "base_uri": "https://localhost:8080/"
        }
      },
      "execution_count": 14,
      "outputs": [
        {
          "output_type": "stream",
          "name": "stdout",
          "text": [
            "../content/result_slowfast doesn't exist. Creating it.\n"
          ]
        }
      ]
    },
    {
      "cell_type": "code",
      "source": [
        "model = slowfast(\"slowfastx32\")"
      ],
      "metadata": {
        "id": "JYkajpp4N9-B",
        "outputId": "c6f2b8f7-3384-40f9-f374-1249e0d17cbc",
        "colab": {
          "base_uri": "https://localhost:8080/",
          "height": 149
        }
      },
      "execution_count": 26,
      "outputs": [
        {
          "output_type": "error",
          "ename": "NameError",
          "evalue": "name 'slowfast' is not defined",
          "traceback": [
            "\u001b[0;31m---------------------------------------------------------------------------\u001b[0m",
            "\u001b[0;31mNameError\u001b[0m                                 Traceback (most recent call last)",
            "\u001b[0;32m<ipython-input-26-d544af06a6a1>\u001b[0m in \u001b[0;36m<cell line: 1>\u001b[0;34m()\u001b[0m\n\u001b[0;32m----> 1\u001b[0;31m \u001b[0mmodel\u001b[0m \u001b[0;34m=\u001b[0m \u001b[0mslowfast\u001b[0m\u001b[0;34m(\u001b[0m\u001b[0;34m\"slowfastx32\"\u001b[0m\u001b[0;34m)\u001b[0m\u001b[0;34m\u001b[0m\u001b[0;34m\u001b[0m\u001b[0m\n\u001b[0m",
            "\u001b[0;31mNameError\u001b[0m: name 'slowfast' is not defined"
          ]
        }
      ]
    },
    {
      "cell_type": "markdown",
      "source": [],
      "metadata": {
        "id": "pwYhGpoWP8oY"
      }
    },
    {
      "cell_type": "code",
      "source": [
        "!python tools/run_net.py --cfg configs/Kinetics/C2D_8x8_R50.yaml NUM_GPUS 1 TRAIN.BATCH_SIZE 8 SOLVER.BASE_LR 0.0125 DATA.PATH_TO_DATA_DIR \"/content/result_slowfast\""
      ],
      "metadata": {
        "id": "MgEQK5llOmju",
        "outputId": "12e16ef6-c4ca-4796-885c-e39fa39702e1",
        "colab": {
          "base_uri": "https://localhost:8080/"
        }
      },
      "execution_count": 22,
      "outputs": [
        {
          "output_type": "stream",
          "name": "stdout",
          "text": [
            "python3: can't open file '/content/tools/run_net.py': [Errno 2] No such file or directory\n"
          ]
        }
      ]
    }
  ],
  "metadata": {
    "colab": {
      "machine_shape": "hm",
      "provenance": [],
      "authorship_tag": "ABX9TyN1Vh6nh9v2ymMJLy0ToxCk",
      "include_colab_link": true
    },
    "kernelspec": {
      "display_name": "Python 3",
      "name": "python3"
    },
    "language_info": {
      "name": "python"
    }
  },
  "nbformat": 4,
  "nbformat_minor": 0
}